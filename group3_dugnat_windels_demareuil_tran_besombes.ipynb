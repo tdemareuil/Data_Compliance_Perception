{
 "cells": [
  {
   "cell_type": "code",
   "execution_count": 1,
   "metadata": {
    "ExecuteTime": {
     "end_time": "2020-11-27T17:58:41.920281Z",
     "start_time": "2020-11-27T17:58:41.268044Z"
    }
   },
   "outputs": [],
   "source": [
    "import os\n",
    "import json\n",
    "import pprint\n",
    "\n",
    "import pandas as pd\n",
    "import seaborn as sns\n",
    "import matplotlib.pyplot as plt\n",
    "\n",
    "from functools import reduce\n",
    "from shutil import copyfile\n",
    "from bs4 import BeautifulSoup\n",
    "\n",
    "pd.set_option('display.max_columns', 500)"
   ]
  },
  {
   "cell_type": "markdown",
   "metadata": {},
   "source": [
    "# Preprocessing"
   ]
  },
  {
   "cell_type": "markdown",
   "metadata": {},
   "source": [
    "## Move text files "
   ]
  },
  {
   "cell_type": "code",
   "execution_count": 2,
   "metadata": {
    "ExecuteTime": {
     "end_time": "2020-11-27T17:58:42.322320Z",
     "start_time": "2020-11-27T17:58:41.923631Z"
    }
   },
   "outputs": [],
   "source": [
    "# INSTRUCTIONS TO GENERATE TEXT FILES IN ONE FOLDER\n",
    "# FROM MULTIPLE HTML FILES\n",
    "\n",
    "def move_text_files() -> None:\n",
    "    \"\"\"Move text files from group files to a general file\n",
    "    Convert html to text by removing tags\n",
    "    Using BeautifulSoup library\n",
    "    \"\"\"\n",
    "    for i in range(1, 17):\n",
    "        html_files = [f for f in os.listdir(\n",
    "            f\"../rating_privacy_policies/group {i}\") if f.endswith(\".html\")]\n",
    "        for file in html_files:\n",
    "            copyfile(\n",
    "                f\"../rating_privacy_policies/group {i}/\" + file, \"../text_files/\" + file)\n",
    "\n",
    "    for html_file in os.listdir(\"../text_files/\"):\n",
    "        with open(\"../text_files/\" + html_file) as f:\n",
    "            file_text = f.read()\n",
    "            file_name = \"\".join(html_file.split('.')[:-1])\n",
    "            with open(\"../text_files_pr/\" + file_name + \".txt\", \"w\") as tf:\n",
    "                pr_text = BeautifulSoup(file_text).text\n",
    "                tf.write(pr_text)\n",
    "                \n",
    "move_text_files()"
   ]
  },
  {
   "cell_type": "markdown",
   "metadata": {},
   "source": [
    "## Read data"
   ]
  },
  {
   "cell_type": "code",
   "execution_count": 3,
   "metadata": {
    "ExecuteTime": {
     "end_time": "2020-11-27T17:58:42.472530Z",
     "start_time": "2020-11-27T17:58:42.324280Z"
    }
   },
   "outputs": [],
   "source": [
    "# Read data files\n",
    "mean_ratings           = pd.read_excel('aggregate_ratings/mean_ratings.xlsx', index_col=0)\n",
    "median_ratings         = pd.read_excel('aggregate_ratings/median_ratings.xlsx', index_col=0)\n",
    "opp_115                = pd.read_json('annotated_privacy_policies/opp_115.json', orient='records')\n",
    "non_comp_ratings       = pd.read_excel('annotated_privacy_policies/non-compliance-rating.xlsx')\n",
    "non_compliance_data_practices = pd.read_json('annotated_privacy_policies/opp_115_non_compliance.json', orient='records')\n"
   ]
  },
  {
   "cell_type": "code",
   "execution_count": 4,
   "metadata": {
    "ExecuteTime": {
     "end_time": "2020-11-27T17:58:42.480656Z",
     "start_time": "2020-11-27T17:58:42.474265Z"
    }
   },
   "outputs": [],
   "source": [
    "def get_raw_text_from_files() -> pd.DataFrame:\n",
    "    \"\"\"\n",
    "    Create a dataframe from the text files\n",
    "    This function reads each file independently\n",
    "    and store the text in a dataframe\n",
    "    \"\"\"\n",
    "    raw_text = pd.Series(name=\"raw_text\")\n",
    "\n",
    "    for text_file in os.listdir(\"../text_files_pr/\"):\n",
    "        with open(\"../text_files_pr/\" + text_file, \"r\") as tf:\n",
    "            raw_text[text_file[:-7] + \".com\"] = tf.read()\n",
    "\n",
    "    raw_text = raw_text.to_frame()\n",
    "\n",
    "    return raw_text\n",
    "\n",
    "\n",
    "def preprocess_ratings(rating_df: pd.DataFrame) -> pd.DataFrame:\n",
    "    \"\"\"Preprocess the ratings dataframes\n",
    "    to make them numeric\n",
    "    and use the company names as rows\n",
    "    to be consistent with other data sources\n",
    "    \"\"\"\n",
    "    rating_df = rating_df.T\n",
    "    rating_df.columns = rating_df.iloc[0]\n",
    "    rating_df = (rating_df\n",
    "                 .drop(\"Questions\", axis=0)\n",
    "                 .iloc[:, :-1]\n",
    "                 .dropna(axis=1, how='all')\n",
    "                 .astype(float)\n",
    "                 .round(2)\n",
    "                 )\n",
    "    rating_df.index = [ind[:-5] for ind in rating_df.index]\n",
    "\n",
    "    return rating_df"
   ]
  },
  {
   "cell_type": "markdown",
   "metadata": {},
   "source": [
    "## Merge dataframes and add text"
   ]
  },
  {
   "cell_type": "code",
   "execution_count": 5,
   "metadata": {
    "ExecuteTime": {
     "end_time": "2020-11-27T17:58:42.577294Z",
     "start_time": "2020-11-27T17:58:42.482764Z"
    }
   },
   "outputs": [
    {
     "name": "stderr",
     "output_type": "stream",
     "text": [
      "<ipython-input-4-7e85586c76a0>:7: DeprecationWarning: The default dtype for empty Series will be 'object' instead of 'float64' in a future version. Specify a dtype explicitly to silence this warning.\n",
      "  raw_text = pd.Series(name=\"raw_text\")\n"
     ]
    }
   ],
   "source": [
    "mean_ratings   = preprocess_ratings(mean_ratings)\n",
    "median_ratings = preprocess_ratings(median_ratings)\n",
    "\n",
    "non_comp_ratings = non_comp_ratings.iloc[:, :-2].dropna(how=\"all\").set_index(\"Name\")\n",
    "\n",
    "non_comp_data_practices = non_compliance_data_practices.set_index(\"url_id\")\n",
    "\n",
    "raw_text = get_raw_text_from_files()\n",
    "\n",
    "df_to_merge = [mean_ratings, median_ratings,\n",
    "               non_comp_data_practices, non_comp_ratings, raw_text]\n",
    "\n",
    "df_merged = reduce(lambda left, right: pd.merge(left, right, left_index=True, right_index=True, how='left'),\n",
    "                   df_to_merge)\n",
    "df_merged.columns = [c.replace(\"_x\", \"_mean\").replace(\n",
    "    \"_y\", \"_median\") for c in df_merged.columns]\n",
    "\n",
    "df = df_merged.copy()"
   ]
  },
  {
   "cell_type": "code",
   "execution_count": 6,
   "metadata": {
    "ExecuteTime": {
     "end_time": "2020-11-27T17:58:42.581778Z",
     "start_time": "2020-11-27T17:58:42.579085Z"
    }
   },
   "outputs": [],
   "source": [
    "# Possibility to export the final\n",
    "# dataframe as excel\n",
    "\n",
    "export = False\n",
    "if export:\n",
    "    df_merged.to_excel(\"data_policies_merged.xlsx\")"
   ]
  },
  {
   "cell_type": "code",
   "execution_count": 7,
   "metadata": {
    "ExecuteTime": {
     "end_time": "2020-11-27T17:58:42.627881Z",
     "start_time": "2020-11-27T17:58:42.583409Z"
    }
   },
   "outputs": [
    {
     "data": {
      "text/html": [
       "<div>\n",
       "<style scoped>\n",
       "    .dataframe tbody tr th:only-of-type {\n",
       "        vertical-align: middle;\n",
       "    }\n",
       "\n",
       "    .dataframe tbody tr th {\n",
       "        vertical-align: top;\n",
       "    }\n",
       "\n",
       "    .dataframe thead th {\n",
       "        text-align: right;\n",
       "    }\n",
       "</style>\n",
       "<table border=\"1\" class=\"dataframe\">\n",
       "  <thead>\n",
       "    <tr style=\"text-align: right;\">\n",
       "      <th></th>\n",
       "      <th>The privacy policy is clear, and I understand my privacy rights_mean</th>\n",
       "      <th>I understand the processing activities the company will perform on my data _mean</th>\n",
       "      <th>I am confident this privacy policy is compliant with transparency standards in data protection law_mean</th>\n",
       "      <th>This privacy policy wants to help consumers understand its privacy practices_mean</th>\n",
       "      <th>I am happy with the benefits I get from sharing my data_mean</th>\n",
       "      <th>The benefits outweigh my concerns for privacy_mean</th>\n",
       "      <th>I greatly benefit from the services of this company _mean</th>\n",
       "      <th>In comparison with similar companies in this industry, this company provides greater benefits (independently of the data I share)_mean</th>\n",
       "      <th>I use or am very likely to use the services of this company_mean</th>\n",
       "      <th>This company collects and processes only the amount of data that is necessary for providing its services_mean</th>\n",
       "      <th>I am confident I can access the personal data this company collects about me_mean</th>\n",
       "      <th>I am happy with the extent of control I have over my data_mean</th>\n",
       "      <th>I am confident this company grants me and protects my rights for having control over my data _mean</th>\n",
       "      <th>I think this privacy policy wants to ensure I have control over my data_mean</th>\n",
       "      <th>I trust this company in general_mean</th>\n",
       "      <th>I trust this company with handling my data_mean</th>\n",
       "      <th>The risks of entrusting my data to this company are minimal_mean</th>\n",
       "      <th>The privacy policy is clear, and I understand my privacy rights_median</th>\n",
       "      <th>I understand the processing activities the company will perform on my data _median</th>\n",
       "      <th>I am confident this privacy policy is compliant with transparency standards in data protection law_median</th>\n",
       "      <th>This privacy policy wants to help consumers understand its privacy practices_median</th>\n",
       "      <th>I am happy with the benefits I get from sharing my data_median</th>\n",
       "      <th>The benefits outweigh my concerns for privacy_median</th>\n",
       "      <th>I greatly benefit from the services of this company _median</th>\n",
       "      <th>In comparison with similar companies in this industry, this company provides greater benefits (independently of the data I share)_median</th>\n",
       "      <th>I use or am very likely to use the services of this company_median</th>\n",
       "      <th>This company collects and processes only the amount of data that is necessary for providing its services_median</th>\n",
       "      <th>I am confident I can access the personal data this company collects about me_median</th>\n",
       "      <th>I am happy with the extent of control I have over my data_median</th>\n",
       "      <th>I am confident this company grants me and protects my rights for having control over my data _median</th>\n",
       "      <th>I think this privacy policy wants to ensure I have control over my data_median</th>\n",
       "      <th>I trust this company in general_median</th>\n",
       "      <th>I trust this company with handling my data_median</th>\n",
       "      <th>The risks of entrusting my data to this company are minimal_median</th>\n",
       "      <th>policy_id</th>\n",
       "      <th>rules</th>\n",
       "      <th>number</th>\n",
       "      <th>Lawfulness, fairness and transparency</th>\n",
       "      <th>Purpose Limitation</th>\n",
       "      <th>Data Minimisation</th>\n",
       "      <th>Accuracy</th>\n",
       "      <th>Storage Limitation</th>\n",
       "      <th>Integrity and Confidentiality</th>\n",
       "      <th>Accountability</th>\n",
       "      <th>raw_text</th>\n",
       "    </tr>\n",
       "  </thead>\n",
       "  <tbody>\n",
       "    <tr>\n",
       "      <th>1017_sci-news.com</th>\n",
       "      <td>5.67</td>\n",
       "      <td>4.33</td>\n",
       "      <td>5.00</td>\n",
       "      <td>5.33</td>\n",
       "      <td>4.00</td>\n",
       "      <td>3.67</td>\n",
       "      <td>2.33</td>\n",
       "      <td>3.33</td>\n",
       "      <td>2.33</td>\n",
       "      <td>5.33</td>\n",
       "      <td>5.00</td>\n",
       "      <td>4.33</td>\n",
       "      <td>4.33</td>\n",
       "      <td>4.33</td>\n",
       "      <td>4.0</td>\n",
       "      <td>4.00</td>\n",
       "      <td>5.67</td>\n",
       "      <td>6.0</td>\n",
       "      <td>6.0</td>\n",
       "      <td>5.0</td>\n",
       "      <td>5.0</td>\n",
       "      <td>4.0</td>\n",
       "      <td>4.0</td>\n",
       "      <td>2.0</td>\n",
       "      <td>4.0</td>\n",
       "      <td>2.0</td>\n",
       "      <td>6.0</td>\n",
       "      <td>5.0</td>\n",
       "      <td>4.0</td>\n",
       "      <td>4.0</td>\n",
       "      <td>5.0</td>\n",
       "      <td>4.0</td>\n",
       "      <td>4.0</td>\n",
       "      <td>5.0</td>\n",
       "      <td>3905</td>\n",
       "      <td>[[{'category': 'First Party Collection/Use', '...</td>\n",
       "      <td>7</td>\n",
       "      <td>0.0</td>\n",
       "      <td>0.0</td>\n",
       "      <td>0.0</td>\n",
       "      <td>0.0</td>\n",
       "      <td>0.0</td>\n",
       "      <td>0.0</td>\n",
       "      <td>0.0</td>\n",
       "      <td>Privacy Policy   Sci-News.com is committed to ...</td>\n",
       "    </tr>\n",
       "    <tr>\n",
       "      <th>1028_redorbit.com</th>\n",
       "      <td>6.00</td>\n",
       "      <td>5.00</td>\n",
       "      <td>5.33</td>\n",
       "      <td>5.33</td>\n",
       "      <td>4.67</td>\n",
       "      <td>4.00</td>\n",
       "      <td>3.67</td>\n",
       "      <td>4.00</td>\n",
       "      <td>3.00</td>\n",
       "      <td>5.33</td>\n",
       "      <td>4.67</td>\n",
       "      <td>4.67</td>\n",
       "      <td>5.33</td>\n",
       "      <td>5.33</td>\n",
       "      <td>4.0</td>\n",
       "      <td>5.33</td>\n",
       "      <td>6.00</td>\n",
       "      <td>7.0</td>\n",
       "      <td>7.0</td>\n",
       "      <td>6.0</td>\n",
       "      <td>6.0</td>\n",
       "      <td>5.0</td>\n",
       "      <td>5.0</td>\n",
       "      <td>4.0</td>\n",
       "      <td>4.0</td>\n",
       "      <td>2.0</td>\n",
       "      <td>7.0</td>\n",
       "      <td>6.0</td>\n",
       "      <td>6.0</td>\n",
       "      <td>7.0</td>\n",
       "      <td>7.0</td>\n",
       "      <td>4.0</td>\n",
       "      <td>6.0</td>\n",
       "      <td>7.0</td>\n",
       "      <td>3906</td>\n",
       "      <td>[[{'category': 'First Party Collection/Use', '...</td>\n",
       "      <td>12</td>\n",
       "      <td>1.0</td>\n",
       "      <td>1.0</td>\n",
       "      <td>1.0</td>\n",
       "      <td>0.0</td>\n",
       "      <td>0.0</td>\n",
       "      <td>1.0</td>\n",
       "      <td>1.0</td>\n",
       "      <td>RedOrbit, Inc. Privacy Statement  |||This priv...</td>\n",
       "    </tr>\n",
       "  </tbody>\n",
       "</table>\n",
       "</div>"
      ],
      "text/plain": [
       "                   The privacy policy is clear, and I understand my privacy rights_mean  \\\n",
       "1017_sci-news.com                                               5.67                      \n",
       "1028_redorbit.com                                               6.00                      \n",
       "\n",
       "                   I understand the processing activities the company will perform on my data _mean  \\\n",
       "1017_sci-news.com                                               4.33                                  \n",
       "1028_redorbit.com                                               5.00                                  \n",
       "\n",
       "                   I am confident this privacy policy is compliant with transparency standards in data protection law_mean  \\\n",
       "1017_sci-news.com                                               5.00                                                         \n",
       "1028_redorbit.com                                               5.33                                                         \n",
       "\n",
       "                   This privacy policy wants to help consumers understand its privacy practices_mean  \\\n",
       "1017_sci-news.com                                               5.33                                   \n",
       "1028_redorbit.com                                               5.33                                   \n",
       "\n",
       "                   I am happy with the benefits I get from sharing my data_mean  \\\n",
       "1017_sci-news.com                                               4.00              \n",
       "1028_redorbit.com                                               4.67              \n",
       "\n",
       "                   The benefits outweigh my concerns for privacy_mean  \\\n",
       "1017_sci-news.com                                               3.67    \n",
       "1028_redorbit.com                                               4.00    \n",
       "\n",
       "                   I greatly benefit from the services of this company _mean  \\\n",
       "1017_sci-news.com                                               2.33           \n",
       "1028_redorbit.com                                               3.67           \n",
       "\n",
       "                   In comparison with similar companies in this industry, this company provides greater benefits (independently of the data I share)_mean  \\\n",
       "1017_sci-news.com                                               3.33                                                                                        \n",
       "1028_redorbit.com                                               4.00                                                                                        \n",
       "\n",
       "                   I use or am very likely to use the services of this company_mean  \\\n",
       "1017_sci-news.com                                               2.33                  \n",
       "1028_redorbit.com                                               3.00                  \n",
       "\n",
       "                   This company collects and processes only the amount of data that is necessary for providing its services_mean  \\\n",
       "1017_sci-news.com                                               5.33                                                               \n",
       "1028_redorbit.com                                               5.33                                                               \n",
       "\n",
       "                   I am confident I can access the personal data this company collects about me_mean  \\\n",
       "1017_sci-news.com                                               5.00                                   \n",
       "1028_redorbit.com                                               4.67                                   \n",
       "\n",
       "                   I am happy with the extent of control I have over my data_mean  \\\n",
       "1017_sci-news.com                                               4.33                \n",
       "1028_redorbit.com                                               4.67                \n",
       "\n",
       "                   I am confident this company grants me and protects my rights for having control over my data _mean  \\\n",
       "1017_sci-news.com                                               4.33                                                    \n",
       "1028_redorbit.com                                               5.33                                                    \n",
       "\n",
       "                   I think this privacy policy wants to ensure I have control over my data_mean  \\\n",
       "1017_sci-news.com                                               4.33                              \n",
       "1028_redorbit.com                                               5.33                              \n",
       "\n",
       "                   I trust this company in general_mean  \\\n",
       "1017_sci-news.com                                   4.0   \n",
       "1028_redorbit.com                                   4.0   \n",
       "\n",
       "                   I trust this company with handling my data_mean  \\\n",
       "1017_sci-news.com                                             4.00   \n",
       "1028_redorbit.com                                             5.33   \n",
       "\n",
       "                   The risks of entrusting my data to this company are minimal_mean  \\\n",
       "1017_sci-news.com                                               5.67                  \n",
       "1028_redorbit.com                                               6.00                  \n",
       "\n",
       "                   The privacy policy is clear, and I understand my privacy rights_median  \\\n",
       "1017_sci-news.com                                                6.0                        \n",
       "1028_redorbit.com                                                7.0                        \n",
       "\n",
       "                   I understand the processing activities the company will perform on my data _median  \\\n",
       "1017_sci-news.com                                                6.0                                    \n",
       "1028_redorbit.com                                                7.0                                    \n",
       "\n",
       "                   I am confident this privacy policy is compliant with transparency standards in data protection law_median  \\\n",
       "1017_sci-news.com                                                5.0                                                           \n",
       "1028_redorbit.com                                                6.0                                                           \n",
       "\n",
       "                   This privacy policy wants to help consumers understand its privacy practices_median  \\\n",
       "1017_sci-news.com                                                5.0                                     \n",
       "1028_redorbit.com                                                6.0                                     \n",
       "\n",
       "                   I am happy with the benefits I get from sharing my data_median  \\\n",
       "1017_sci-news.com                                                4.0                \n",
       "1028_redorbit.com                                                5.0                \n",
       "\n",
       "                   The benefits outweigh my concerns for privacy_median  \\\n",
       "1017_sci-news.com                                                4.0      \n",
       "1028_redorbit.com                                                5.0      \n",
       "\n",
       "                   I greatly benefit from the services of this company _median  \\\n",
       "1017_sci-news.com                                                2.0             \n",
       "1028_redorbit.com                                                4.0             \n",
       "\n",
       "                   In comparison with similar companies in this industry, this company provides greater benefits (independently of the data I share)_median  \\\n",
       "1017_sci-news.com                                                4.0                                                                                          \n",
       "1028_redorbit.com                                                4.0                                                                                          \n",
       "\n",
       "                   I use or am very likely to use the services of this company_median  \\\n",
       "1017_sci-news.com                                                2.0                    \n",
       "1028_redorbit.com                                                2.0                    \n",
       "\n",
       "                   This company collects and processes only the amount of data that is necessary for providing its services_median  \\\n",
       "1017_sci-news.com                                                6.0                                                                 \n",
       "1028_redorbit.com                                                7.0                                                                 \n",
       "\n",
       "                   I am confident I can access the personal data this company collects about me_median  \\\n",
       "1017_sci-news.com                                                5.0                                     \n",
       "1028_redorbit.com                                                6.0                                     \n",
       "\n",
       "                   I am happy with the extent of control I have over my data_median  \\\n",
       "1017_sci-news.com                                                4.0                  \n",
       "1028_redorbit.com                                                6.0                  \n",
       "\n",
       "                   I am confident this company grants me and protects my rights for having control over my data _median  \\\n",
       "1017_sci-news.com                                                4.0                                                      \n",
       "1028_redorbit.com                                                7.0                                                      \n",
       "\n",
       "                   I think this privacy policy wants to ensure I have control over my data_median  \\\n",
       "1017_sci-news.com                                                5.0                                \n",
       "1028_redorbit.com                                                7.0                                \n",
       "\n",
       "                   I trust this company in general_median  \\\n",
       "1017_sci-news.com                                     4.0   \n",
       "1028_redorbit.com                                     4.0   \n",
       "\n",
       "                   I trust this company with handling my data_median  \\\n",
       "1017_sci-news.com                                                4.0   \n",
       "1028_redorbit.com                                                6.0   \n",
       "\n",
       "                   The risks of entrusting my data to this company are minimal_median  \\\n",
       "1017_sci-news.com                                                5.0                    \n",
       "1028_redorbit.com                                                7.0                    \n",
       "\n",
       "                   policy_id  \\\n",
       "1017_sci-news.com       3905   \n",
       "1028_redorbit.com       3906   \n",
       "\n",
       "                                                               rules  number  \\\n",
       "1017_sci-news.com  [[{'category': 'First Party Collection/Use', '...       7   \n",
       "1028_redorbit.com  [[{'category': 'First Party Collection/Use', '...      12   \n",
       "\n",
       "                   Lawfulness, fairness and transparency  Purpose Limitation  \\\n",
       "1017_sci-news.com                                    0.0                 0.0   \n",
       "1028_redorbit.com                                    1.0                 1.0   \n",
       "\n",
       "                   Data Minimisation  Accuracy  Storage Limitation  \\\n",
       "1017_sci-news.com                0.0       0.0                 0.0   \n",
       "1028_redorbit.com                1.0       0.0                 0.0   \n",
       "\n",
       "                   Integrity and Confidentiality  Accountability  \\\n",
       "1017_sci-news.com                            0.0             0.0   \n",
       "1028_redorbit.com                            1.0             1.0   \n",
       "\n",
       "                                                            raw_text  \n",
       "1017_sci-news.com  Privacy Policy   Sci-News.com is committed to ...  \n",
       "1028_redorbit.com  RedOrbit, Inc. Privacy Statement  |||This priv...  "
      ]
     },
     "execution_count": 7,
     "metadata": {},
     "output_type": "execute_result"
    }
   ],
   "source": [
    "# Let's look at what is the dataframe processed\n",
    "\n",
    "df_merged.head(2)"
   ]
  },
  {
   "cell_type": "markdown",
   "metadata": {},
   "source": [
    "# Modelling"
   ]
  },
  {
   "cell_type": "markdown",
   "metadata": {},
   "source": [
    "### PaulEmile's code"
   ]
  },
  {
   "cell_type": "code",
   "execution_count": 8,
   "metadata": {
    "ExecuteTime": {
     "end_time": "2020-11-27T17:58:42.884541Z",
     "start_time": "2020-11-27T17:58:42.630239Z"
    }
   },
   "outputs": [],
   "source": [
    "from sklearn.preprocessing import StandardScaler\n",
    "from sklearn.metrics import r2_score\n",
    "from sklearn.lanear_model import LinearRegression, Lasso, Ridge\n",
    "from sklearn.feature_extraction.text import CountVectorizer"
   ]
  },
  {
   "cell_type": "markdown",
   "metadata": {},
   "source": [
    "## Explain the trust coefficient"
   ]
  },
  {
   "cell_type": "code",
   "execution_count": 9,
   "metadata": {
    "ExecuteTime": {
     "end_time": "2020-11-27T17:58:42.897177Z",
     "start_time": "2020-11-27T17:58:42.886073Z"
    },
    "code_folding": []
   },
   "outputs": [],
   "source": [
    "# Make groups of variables to manipulate \n",
    "# bigger categories T, B and C\n",
    "\n",
    "benefit_variables = [\"I am happy with the benefits I get from sharing my data_mean\",\n",
    "                     \"The benefits outweigh my concerns for privacy_mean\",\n",
    "                     \"In comparison with similar companies in this industry, this company provides greater benefits (independently of the data I share)_mean\",\n",
    "                     \"I use or am very likely to use the services of this company_mean\"]\n",
    "transparenc_variables = [\"The privacy policy is clear, and I understand my privacy rights_mean\",\n",
    "                         \"I understand the processing activities the company will perform on my data _mean\",\n",
    "                         \"I am confident this privacy policy is compliant with transparency standards in data protection law_mean\",\n",
    "                         \"This privacy policy wants to help consumers understand its privacy practices_mean\"]\n",
    "control_variables = [\"This company collects and processes only the amount of data that is necessary for providing its services_mean\",\n",
    "                     \"I am confident I can access the personal data this company collects about me_mean\",\n",
    "                     \"I am happy with the extent of control I have over my data_mean\",\n",
    "                     \"I am confident this company grants me and protects my rights for having control over my data _mean\",\n",
    "                     \"I think this privacy policy wants to ensure I have control over my data_mean\"]\n",
    "                     \n",
    "                     \n",
    "trust_variables = [\"I trust this company in general_mean\",\n",
    "                   \"The risks of entrusting my data to this company are minimal_mean\",\n",
    "                   \"I trust this company with handling my data_mean\"]\n",
    "\n",
    "# Create category mean\n",
    "df_merged[\"benefit_mean\"]      = df_merged[benefit_variables]    .mean(axis=1)\n",
    "df_merged[\"transparency_mean\"] = df_merged[transparenc_variables].mean(axis=1)\n",
    "df_merged[\"control_mean\"]      = df_merged[control_variables]    .mean(axis=1)\n",
    "df_merged[\"trust_mean\"]        = df_merged[trust_variables]      .mean(axis=1)"
   ]
  },
  {
   "cell_type": "code",
   "execution_count": 10,
   "metadata": {
    "ExecuteTime": {
     "end_time": "2020-11-27T17:58:42.982930Z",
     "start_time": "2020-11-27T17:58:42.898826Z"
    }
   },
   "outputs": [],
   "source": [
    "# Build interaction variables\n",
    "df_merged[\"B * T\"] = df_merged[\"benefit_mean\"] * df_merged[\"transparency_mean\"]\n",
    "df_merged[\"B * C\"] = df_merged[\"benefit_mean\"] * df_merged[\"control_mean\"]\n",
    "df_merged[\"C * T\"] = df_merged[\"control_mean\"] * df_merged[\"transparency_mean\"]\n",
    "df_merged[\"B * T * C\"] = df_merged[\"benefit_mean\"] * df_merged[\"control_mean\"] * df_merged[\"transparency_mean\"]"
   ]
  },
  {
   "cell_type": "code",
   "execution_count": 11,
   "metadata": {
    "ExecuteTime": {
     "end_time": "2020-11-27T17:58:42.987195Z",
     "start_time": "2020-11-27T17:58:42.984561Z"
    }
   },
   "outputs": [],
   "source": [
    "# Create variable selectors\n",
    "base_variables = [\"transparency_mean\", \"control_mean\", \"benefit_mean\"]\n",
    "interaction_variables = [\"B * T\", \"B * C\", \"C * T\", \"B * T * C\"]\n",
    "\n",
    "# feats controls the subset of categories used\n",
    "# you can use only base_variables\n",
    "# or base_variables + interaction_variables\n",
    "\n",
    "feats = base_variables + interaction_variables"
   ]
  },
  {
   "cell_type": "code",
   "execution_count": 12,
   "metadata": {
    "ExecuteTime": {
     "end_time": "2020-11-27T17:58:42.999846Z",
     "start_time": "2020-11-27T17:58:42.988909Z"
    }
   },
   "outputs": [],
   "source": [
    "# standardise variable to measure scale effect\n",
    "# and compare coefficients\n",
    "standard_sc = StandardScaler()\n",
    "\n",
    "rough_mean = 4   # 4 is the mean of the columns\n",
    "\n",
    "# Select the relevant data\n",
    "# and fill nans with the mean\n",
    "X_train = standard_sc.fit_transform(df_merged[feats].fillna(rough_mean))\n",
    "y_train = df_merged[\"trust_mean\"].fillna(rough_mean)\n",
    "\n",
    "# Fit the Linear Regression model\n",
    "lr = LinearRegression()\n",
    "lr.fit(X_train, y_train)\n",
    "\n",
    "# Gather the outcomes of the model\n",
    "# R_square and coefficients of features\n",
    "features_coef = {f + \"_coef\": round(s, 3) for (f, s) in zip(feats, lr.coef_)}\n",
    "features_coef[\"determination_coef\"] = round(r2_score(y_train, lr.predict(X_train)), 3)\n",
    "features_coef[\"features_used\"] = str(feats)"
   ]
  },
  {
   "cell_type": "code",
   "execution_count": 13,
   "metadata": {
    "ExecuteTime": {
     "end_time": "2020-11-27T17:58:43.009777Z",
     "start_time": "2020-11-27T17:58:43.001830Z"
    }
   },
   "outputs": [
    {
     "data": {
      "text/html": [
       "<div>\n",
       "<style scoped>\n",
       "    .dataframe tbody tr th:only-of-type {\n",
       "        vertical-align: middle;\n",
       "    }\n",
       "\n",
       "    .dataframe tbody tr th {\n",
       "        vertical-align: top;\n",
       "    }\n",
       "\n",
       "    .dataframe thead th {\n",
       "        text-align: right;\n",
       "    }\n",
       "</style>\n",
       "<table border=\"1\" class=\"dataframe\">\n",
       "  <thead>\n",
       "    <tr style=\"text-align: right;\">\n",
       "      <th></th>\n",
       "      <th>interactions</th>\n",
       "    </tr>\n",
       "  </thead>\n",
       "  <tbody>\n",
       "    <tr>\n",
       "      <th>transparency_mean_coef</th>\n",
       "      <td>0.552</td>\n",
       "    </tr>\n",
       "    <tr>\n",
       "      <th>control_mean_coef</th>\n",
       "      <td>-0.137</td>\n",
       "    </tr>\n",
       "    <tr>\n",
       "      <th>benefit_mean_coef</th>\n",
       "      <td>0.197</td>\n",
       "    </tr>\n",
       "    <tr>\n",
       "      <th>B * T_coef</th>\n",
       "      <td>-0.253</td>\n",
       "    </tr>\n",
       "    <tr>\n",
       "      <th>B * C_coef</th>\n",
       "      <td>0.961</td>\n",
       "    </tr>\n",
       "    <tr>\n",
       "      <th>C * T_coef</th>\n",
       "      <td>0.525</td>\n",
       "    </tr>\n",
       "    <tr>\n",
       "      <th>B * T * C_coef</th>\n",
       "      <td>-0.599</td>\n",
       "    </tr>\n",
       "    <tr>\n",
       "      <th>determination_coef</th>\n",
       "      <td>0.777</td>\n",
       "    </tr>\n",
       "    <tr>\n",
       "      <th>features_used</th>\n",
       "      <td>['transparency_mean', 'control_mean', 'benefit...</td>\n",
       "    </tr>\n",
       "  </tbody>\n",
       "</table>\n",
       "</div>"
      ],
      "text/plain": [
       "                                                             interactions\n",
       "transparency_mean_coef                                              0.552\n",
       "control_mean_coef                                                  -0.137\n",
       "benefit_mean_coef                                                   0.197\n",
       "B * T_coef                                                         -0.253\n",
       "B * C_coef                                                          0.961\n",
       "C * T_coef                                                          0.525\n",
       "B * T * C_coef                                                     -0.599\n",
       "determination_coef                                                  0.777\n",
       "features_used           ['transparency_mean', 'control_mean', 'benefit..."
      ]
     },
     "execution_count": 13,
     "metadata": {},
     "output_type": "execute_result"
    }
   ],
   "source": [
    "# Example with all features\n",
    "df_interactions = pd.DataFrame(features_coef, index=[\"interactions\"]).T\n",
    "df_interactions"
   ]
  },
  {
   "cell_type": "markdown",
   "metadata": {},
   "source": [
    "# Heatmap of correlation\n",
    "### Tommy's code"
   ]
  },
  {
   "cell_type": "code",
   "execution_count": 14,
   "metadata": {
    "ExecuteTime": {
     "end_time": "2020-11-27T17:58:43.251090Z",
     "start_time": "2020-11-27T17:58:43.011842Z"
    }
   },
   "outputs": [
    {
     "data": {
      "text/plain": [
       "<matplotlib.axes._subplots.AxesSubplot at 0x7fb2ded92400>"
      ]
     },
     "execution_count": 14,
     "metadata": {},
     "output_type": "execute_result"
    },
    {
     "data": {
      "image/png": "[encoded data removed]",
      "text/plain": [
       "<Figure size 432x288 with 2 Axes>"
      ]
     },
     "metadata": {
      "needs_background": "light"
     },
     "output_type": "display_data"
    }
   ],
   "source": [
    "columns = mean_ratings.columns\n",
    "mean_ratings['Transparency'] = mean_ratings[columns[:4]].mean(axis=1)\n",
    "mean_ratings['Benefits'] = mean_ratings[columns[4:9]].mean(axis=1)\n",
    "mean_ratings['Controls'] = mean_ratings[columns[9:]].mean(axis=1)\n",
    "\n",
    "non_comp_ratings = pd.read_excel('annotated_privacy_policies/non-compliance-rating.xlsx')\n",
    "\n",
    "non_comp_ratings.Name = non_comp_ratings.Name.apply(\n",
    "    lambda x: str(x).replace('.com', '.com.html'))\n",
    "for column in non_comp_ratings:\n",
    "    try:\n",
    "        non_comp_ratings[column] = non_comp_ratings[column].astype('float')\n",
    "    except:\n",
    "        pass\n",
    "hm = sns.heatmap(mean_ratings.join(non_comp_ratings.set_index('Name'))[['Transparency', 'Controls', 'Lawfulness, fairness and transparency', 'Purpose Limitation',\n",
    "                                                                        'Data Minimisation', 'Accuracy', 'Storage Limitation',\n",
    "                                                                        'Integrity and Confidentiality', 'Accountability',\n",
    "                                                                        'Overall compliance ']].corr(), xticklabels=True)\n",
    "hm"
   ]
  },
  {
   "cell_type": "markdown",
   "metadata": {},
   "source": [
    "# NLP Approach\n",
    "### Etienne Code"
   ]
  },
  {
   "cell_type": "markdown",
   "metadata": {},
   "source": [
    "## Explanation of NLP approach\n",
    "* The purpose of this analysis is to identify words and phrases that might impact the opinion of readers when going through the Terms of Service.\n",
    "* This is achieved by creating a bag of words vector of the text for each ToS, thus creating a vocabulary of all the words used. Then, a linear model is fit using the resulting text vector and each of the features in the dataset. The larger the coefficient of a particular word, the most it contributes to increasing the grade the reader will give the feature."
   ]
  },
  {
   "cell_type": "code",
   "execution_count": 15,
   "metadata": {
    "ExecuteTime": {
     "end_time": "2020-11-27T17:58:43.259633Z",
     "start_time": "2020-11-27T17:58:43.252652Z"
    }
   },
   "outputs": [],
   "source": [
    "def get_text_arr(df, ngram_range, binary):\n",
    "    cv = CountVectorizer(ngram_range=ngram_range, min_df=4,\n",
    "                         max_df=0.75, binary=binary)\n",
    "    text_arr = cv.fit_transform(df['raw_text'].values)\n",
    "    print(text_arr.shape[1], 'tokens')\n",
    "    return text_arr, cv\n",
    "\n",
    "\n",
    "def min_max_scale(array):\n",
    "    return (array - array.min()) / (array.max() - array.min())\n",
    "\n",
    "\n",
    "def print_top(coefs, vocab, text_arr, top=10):\n",
    "    for idx in coefs.argsort()[::-1][:top]:\n",
    "        print(\n",
    "            f\"{vocab[idx]:35s} : {coefs[idx]:7.4f} | {text_arr[:, idx].sum():>3} occurences\")\n",
    "\n",
    "\n",
    "def print_bottom(coefs, vocab, text_arr, bot=10):\n",
    "    for idx in coefs.argsort()[:bot]:\n",
    "        print(\n",
    "            f\"{vocab[idx]:35s} : {coefs[idx]:7.4f} | {text_arr[:, idx].sum():>3} occurences\")\n",
    "\n",
    "\n",
    "def fit_model(text_arr, feature_arr, model):\n",
    "    feature_scaled = min_max_scale(feature_arr)\n",
    "    model.fit(text_arr, feature_scaled)\n",
    "    return model\n",
    "\n",
    "\n",
    "def get_token_scores(model, text_arr, feature, vocab):\n",
    "    print(f'Feature: {feature}')\n",
    "    print('---')\n",
    "    model = fit_model(text_arr, df[feature], model)\n",
    "    print('[top tokens]')\n",
    "    print_top(model.coef_, vocab, text_arr, top=10)\n",
    "    print('---')\n",
    "    print('[bottom tokens]')\n",
    "    print_bottom(model.coef_, vocab, text_arr, bot=10)"
   ]
  },
  {
   "cell_type": "code",
   "execution_count": 16,
   "metadata": {
    "ExecuteTime": {
     "end_time": "2020-11-27T17:58:43.264550Z",
     "start_time": "2020-11-27T17:58:43.261051Z"
    }
   },
   "outputs": [
    {
     "name": "stdout",
     "output_type": "stream",
     "text": [
      "0 - I understand the processing activities the company will perform on my data _mean\n",
      "1 - I am confident this privacy policy is compliant with transparency standards in data protection law_mean\n",
      "2 - This privacy policy wants to help consumers understand its privacy practices_mean\n",
      "3 - I am happy with the benefits I get from sharing my data_mean\n",
      "4 - The benefits outweigh my concerns for privacy_mean\n",
      "5 - I greatly benefit from the services of this company _mean\n",
      "6 - In comparison with similar companies in this industry, this company provides greater benefits (independently of the data I share)_mean\n",
      "7 - I use or am very likely to use the services of this company_mean\n",
      "8 - This company collects and processes only the amount of data that is necessary for providing its services_mean\n",
      "9 - I am confident I can access the personal data this company collects about me_mean\n"
     ]
    }
   ],
   "source": [
    "features = list(df.columns[1:-1])\n",
    "features.remove('rules')\n",
    "\n",
    "for i, feature in enumerate(features[:10]):\n",
    "    print(i, '-', feature)"
   ]
  },
  {
   "cell_type": "code",
   "execution_count": 17,
   "metadata": {
    "ExecuteTime": {
     "end_time": "2020-11-27T17:58:43.573302Z",
     "start_time": "2020-11-27T17:58:43.265884Z"
    }
   },
   "outputs": [
    {
     "name": "stdout",
     "output_type": "stream",
     "text": [
      "4463 tokens\n"
     ]
    }
   ],
   "source": [
    "# Let's prepare the data \n",
    "# and fit the model\n",
    "\n",
    "df = df.dropna(subset=[\"raw_text\"])\n",
    "text_arr, cv = get_text_arr(df, ngram_range=(4, 4), binary=True)\n",
    "vocab = cv.get_feature_names()\n",
    "model = LinearRegression()"
   ]
  },
  {
   "cell_type": "code",
   "execution_count": 18,
   "metadata": {
    "ExecuteTime": {
     "end_time": "2020-11-27T17:58:43.603859Z",
     "start_time": "2020-11-27T17:58:43.574860Z"
    }
   },
   "outputs": [
    {
     "name": "stdout",
     "output_type": "stream",
     "text": [
      "Feature: I understand the processing activities the company will perform on my data _mean\n",
      "---\n",
      "[top tokens]\n",
      "this privacy policy how             :  0.1117 |   4 occurences\n",
      "our web site or                     :  0.0554 |   4 occurences\n",
      "to collect personal information     :  0.0547 |   5 occurences\n",
      "not responsible for the             :  0.0545 |  38 occurences\n",
      "and we do not                       :  0.0530 |  15 occurences\n",
      "your interaction with the           :  0.0525 |   4 occurences\n",
      "personal information and we         :  0.0519 |   7 occurences\n",
      "information from your computer      :  0.0509 |   8 occurences\n",
      "your computer when you              :  0.0504 |   6 occurences\n",
      "on your computer when               :  0.0502 |   5 occurences\n",
      "---\n",
      "[bottom tokens]\n",
      "third party advertising networks    : -0.1000 |   8 occurences\n",
      "to any third party                  : -0.0847 |  11 occurences\n",
      "identifiable information collected from : -0.0814 |   4 occurences\n",
      "if at any time                      : -0.0677 |  12 occurences\n",
      "at any time you                     : -0.0651 |  14 occurences\n",
      "to opt out of                       : -0.0369 |  56 occurences\n",
      "the bottom of any                   : -0.0332 |   4 occurences\n",
      "the privacy of our                  : -0.0306 |   6 occurences\n",
      "to third parties we                 : -0.0297 |   4 occurences\n",
      "at the bottom of                    : -0.0294 |  20 occurences\n"
     ]
    }
   ],
   "source": [
    "# On this example, we can see that\n",
    "# \"third party\" harms the score\n",
    "# for this category\n",
    "\n",
    "get_token_scores(model, text_arr, features[0], vocab)"
   ]
  },
  {
   "cell_type": "markdown",
   "metadata": {},
   "source": [
    "# Correlation between user grading and expert annotation"
   ]
  },
  {
   "cell_type": "markdown",
   "metadata": {},
   "source": [
    "### Romain and Thomas code"
   ]
  },
  {
   "cell_type": "code",
   "execution_count": 19,
   "metadata": {
    "ExecuteTime": {
     "end_time": "2020-11-27T17:58:43.617110Z",
     "start_time": "2020-11-27T17:58:43.606681Z"
    }
   },
   "outputs": [],
   "source": [
    "# Create 'TBCT' columns based on user's answers\n",
    "df_merged[\"benefits\"]     = df_merged[benefit_variables]    .mean(axis=1)\n",
    "df_merged[\"transparency\"] = df_merged[transparenc_variables].mean(axis=1)\n",
    "df_merged[\"control\"]      = df_merged[control_variables]    .mean(axis=1)\n",
    "df_merged[\"trust\"]        = df_merged[trust_variables]      .mean(axis=1)"
   ]
  },
  {
   "cell_type": "code",
   "execution_count": 20,
   "metadata": {
    "ExecuteTime": {
     "end_time": "2020-11-27T17:58:43.797338Z",
     "start_time": "2020-11-27T17:58:43.618604Z"
    }
   },
   "outputs": [
    {
     "data": {
      "text/plain": [
       "<matplotlib.axes._subplots.AxesSubplot at 0x7fb2dee93790>"
      ]
     },
     "execution_count": 20,
     "metadata": {},
     "output_type": "execute_result"
    },
    {
     "data": {
      "image/png": "[encoded data removed]",
      "text/plain": [
       "<Figure size 144x576 with 2 Axes>"
      ]
     },
     "metadata": {
      "needs_background": "light"
     },
     "output_type": "display_data"
    }
   ],
   "source": [
    "# Count number of occurences of each category in the data policy of each company\n",
    "dict_category = {}\n",
    "for url_id, dictio in zip(opp_115.url_id, opp_115.attribute_value_pairs):\n",
    "    for category in dictio:\n",
    "        if not category in dict_category:\n",
    "            dict_category[category] = {url_id: 1}\n",
    "        else:\n",
    "            if not url_id in dict_category[category]:\n",
    "                dict_category[category][url_id] = 1\n",
    "            else:\n",
    "                dict_category[category][url_id] += 1\n",
    "\n",
    "# Add this count of categories to the dataframe\n",
    "df_merged_w_category = pd.merge(df_merged, pd.DataFrame(\n",
    "    dict_category), left_index=True, right_index=True)\n",
    "\n",
    "# Create a correlation matrix heatmap\n",
    "plt.figure(figsize=(2, 8))\n",
    "sns.heatmap(df_merged_w_category[['transparency', 'control', 'Other', 'Policy Change', 'First Party Collection/Use',\n",
    "                                  'Data Retention', 'International and Specific Audiences',\n",
    "                                  'Third Party Sharing/Collection', 'User Choice/Control',\n",
    "                                  'User Access, Edit and Deletion', 'Data Security', 'Do Not Track']].corr().iloc[2:, :2])"
   ]
  },
  {
   "cell_type": "code",
   "execution_count": null,
   "metadata": {},
   "outputs": [],
   "source": []
  }
 ],
 "metadata": {
  "kernelspec": {
   "display_name": "Python 3",
   "language": "python",
   "name": "python3"
  },
  "language_info": {
   "codemirror_mode": {
    "name": "ipython",
    "version": 3
   },
   "file_extension": ".py",
   "mimetype": "text/x-python",
   "name": "python",
   "nbconvert_exporter": "python",
   "pygments_lexer": "ipython3",
   "version": "3.8.3"
  },
  "toc": {
   "base_numbering": 1,
   "nav_menu": {},
   "number_sections": true,
   "sideBar": true,
   "skip_h1_title": false,
   "title_cell": "Table of Contents",
   "title_sidebar": "Contents",
   "toc_cell": false,
   "toc_position": {},
   "toc_section_display": true,
   "toc_window_display": false
  }
 },
 "nbformat": 4,
 "nbformat_minor": 4
}
